{
 "cells": [
  {
   "cell_type": "code",
   "execution_count": 1,
   "id": "37e7b1dd",
   "metadata": {
    "execution": {
     "iopub.execute_input": "2023-03-10T12:33:14.841621Z",
     "iopub.status.busy": "2023-03-10T12:33:14.840343Z",
     "iopub.status.idle": "2023-03-10T12:33:19.616265Z",
     "shell.execute_reply": "2023-03-10T12:33:19.615048Z"
    },
    "papermill": {
     "duration": 4.784554,
     "end_time": "2023-03-10T12:33:19.619356",
     "exception": false,
     "start_time": "2023-03-10T12:33:14.834802",
     "status": "completed"
    },
    "tags": []
   },
   "outputs": [
    {
     "name": "stdout",
     "output_type": "stream",
     "text": [
      "WARNING:tensorflow:From c:\\Users\\msi\\AppData\\Local\\Programs\\Python\\Python312\\Lib\\site-packages\\tf_keras\\src\\losses.py:2976: The name tf.losses.sparse_softmax_cross_entropy is deprecated. Please use tf.compat.v1.losses.sparse_softmax_cross_entropy instead.\n",
      "\n",
      "WARNING:tensorflow:From c:\\Users\\msi\\AppData\\Local\\Programs\\Python\\Python312\\Lib\\site-packages\\tensorflow_hub\\resolver.py:120: The name tf.gfile.MakeDirs is deprecated. Please use tf.io.gfile.makedirs instead.\n",
      "\n"
     ]
    },
    {
     "name": "stderr",
     "output_type": "stream",
     "text": [
      "WARNING:tensorflow:From c:\\Users\\msi\\AppData\\Local\\Programs\\Python\\Python312\\Lib\\site-packages\\tensorflow_hub\\resolver.py:120: The name tf.gfile.MakeDirs is deprecated. Please use tf.io.gfile.makedirs instead.\n",
      "\n"
     ]
    },
    {
     "name": "stdout",
     "output_type": "stream",
     "text": [
      "WARNING:tensorflow:From c:\\Users\\msi\\AppData\\Local\\Programs\\Python\\Python312\\Lib\\site-packages\\tensorflow_hub\\module_v2.py:126: The name tf.saved_model.load_v2 is deprecated. Please use tf.compat.v2.saved_model.load instead.\n",
      "\n"
     ]
    },
    {
     "name": "stderr",
     "output_type": "stream",
     "text": [
      "WARNING:tensorflow:From c:\\Users\\msi\\AppData\\Local\\Programs\\Python\\Python312\\Lib\\site-packages\\tensorflow_hub\\module_v2.py:126: The name tf.saved_model.load_v2 is deprecated. Please use tf.compat.v2.saved_model.load instead.\n",
      "\n"
     ]
    }
   ],
   "source": [
    "import tensorflow as tf\n",
    "import tensorflow_hub as hub\n",
    "from PIL import Image\n",
    "\n",
    "# Load the model\n",
    "model = hub.load(\"https://kaggle.com/models/rishitdagli/plant-disease/frameworks/TensorFlow2/variations/plant-disease/versions/1\")\n",
    "\n",
    "# Define a function to predict the disease\n",
    "def predict_disease(image_path):\n",
    "    # Load the image and preprocess it\n",
    "    img = Image.open(image_path)\n",
    "    img = img.resize((224, 224))\n",
    "    img = tf.keras.preprocessing.image.img_to_array(img)\n",
    "    img = tf.keras.applications.mobilenet_v2.preprocess_input(img)\n",
    "    img = tf.expand_dims(img, axis=0)\n",
    "    \n",
    "    # Make the prediction\n",
    "    prediction = model(img)\n",
    "    predicted_class = tf.argmax(prediction, axis=1)\n",
    "    \n",
    "    # Return the predicted disease\n",
    "    return predicted_class[0].numpy()\n"
   ]
  },
  {
   "cell_type": "code",
   "execution_count": 2,
   "id": "0d097c67",
   "metadata": {
    "execution": {
     "iopub.execute_input": "2023-03-10T12:33:19.629208Z",
     "iopub.status.busy": "2023-03-10T12:33:19.628615Z",
     "iopub.status.idle": "2023-03-10T12:33:20.168752Z",
     "shell.execute_reply": "2023-03-10T12:33:20.167690Z"
    },
    "papermill": {
     "duration": 0.548135,
     "end_time": "2023-03-10T12:33:20.171469",
     "exception": false,
     "start_time": "2023-03-10T12:33:19.623334",
     "status": "completed"
    },
    "tags": []
   },
   "outputs": [
    {
     "data": {
      "text/plain": [
       "0"
      ]
     },
     "execution_count": 2,
     "metadata": {},
     "output_type": "execute_result"
    }
   ],
   "source": [
    "res = predict_disease('test.jpg')\n",
    "res"
   ]
  },
  {
   "cell_type": "code",
   "execution_count": 3,
   "id": "12cf8bb6",
   "metadata": {
    "execution": {
     "iopub.execute_input": "2023-03-10T12:33:20.182437Z",
     "iopub.status.busy": "2023-03-10T12:33:20.181211Z",
     "iopub.status.idle": "2023-03-10T12:33:20.190183Z",
     "shell.execute_reply": "2023-03-10T12:33:20.188875Z"
    },
    "papermill": {
     "duration": 0.01742,
     "end_time": "2023-03-10T12:33:20.193268",
     "exception": false,
     "start_time": "2023-03-10T12:33:20.175848",
     "status": "completed"
    },
    "tags": []
   },
   "outputs": [],
   "source": [
    "diseases = {\n",
    "    \"0\": \"Apple___Apple_scab\",\n",
    "    \"1\": \"Apple___Black_rot\",\n",
    "    \"2\": \"Apple___Cedar_apple_rust\",\n",
    "    \"3\": \"Apple___healthy\",\n",
    "    \"4\": \"Blueberry___healthy\",\n",
    "    \"5\": \"Cherry_(including_sour)___Powdery_mildew\",\n",
    "    \"6\": \"Cherry_(including_sour)___healthy\",\n",
    "    \"7\": \"Corn_(maize)___Cercospora_leaf_spot Gray_leaf_spot\",\n",
    "    \"8\": \"Corn_(maize)___Common_rust_\",\n",
    "    \"9\": \"Corn_(maize)___Northern_Leaf_Blight\",\n",
    "    \"10\": \"Corn_(maize)___healthy\",\n",
    "    \"11\": \"Grape___Black_rot\",\n",
    "    \"12\": \"Grape___Esca_(Black_Measles)\",\n",
    "    \"13\": \"Grape___Leaf_blight_(Isariopsis_Leaf_Spot)\",\n",
    "    \"14\": \"Grape___healthy\",\n",
    "    \"15\": \"Orange___Haunglongbing_(Citrus_greening)\",\n",
    "    \"16\": \"Peach___Bacterial_spot\",\n",
    "    \"17\": \"Peach___healthy\",\n",
    "    \"18\": \"Pepper_bell___Bacterial_spot\",\n",
    "    \"19\": \"Pepper_bell___healthy\",\n",
    "    \"20\": \"Potato___Early_blight\",\n",
    "    \"21\": \"Potato___Late_blight\",\n",
    "    \"22\": \"Potato___healthy\",\n",
    "    \"23\": \"Raspberry___healthy\",\n",
    "    \"24\": \"Soybean___healthy\",\n",
    "    \"25\": \"Squash___Powdery_mildew\",\n",
    "    \"26\": \"Strawberry___Leaf_scorch\",\n",
    "    \"27\": \"Strawberry___healthy\",\n",
    "    \"28\": \"Tomato___Bacterial_spot\",\n",
    "    \"29\": \"Tomato___Early_blight\",\n",
    "    \"30\": \"Tomato___Late_blight\",\n",
    "    \"31\": \"Tomato___Leaf_Mold\",\n",
    "    \"32\": \"Tomato___Septoria_leaf_spot\",\n",
    "    \"33\": \"Tomato___Spider_mites Two-spotted_spider_mite\",\n",
    "    \"34\": \"Tomato___Target_Spot\",\n",
    "    \"35\": \"Tomato___Tomato_Yellow_Leaf_Curl_Virus\",\n",
    "    \"36\": \"Tomato___Tomato_mosaic_virus\",\n",
    "    \"37\": \"Tomato___healthy\"\n",
    "}"
   ]
  },
  {
   "cell_type": "code",
   "execution_count": 4,
   "id": "66a9d5bc",
   "metadata": {
    "execution": {
     "iopub.execute_input": "2023-03-10T12:33:20.203219Z",
     "iopub.status.busy": "2023-03-10T12:33:20.202462Z",
     "iopub.status.idle": "2023-03-10T12:33:20.208976Z",
     "shell.execute_reply": "2023-03-10T12:33:20.207373Z"
    },
    "papermill": {
     "duration": 0.014379,
     "end_time": "2023-03-10T12:33:20.211641",
     "exception": false,
     "start_time": "2023-03-10T12:33:20.197262",
     "status": "completed"
    },
    "tags": []
   },
   "outputs": [
    {
     "name": "stdout",
     "output_type": "stream",
     "text": [
      "Apple___Apple_scab\n"
     ]
    }
   ],
   "source": [
    "print(diseases[str(res)])"
   ]
  }
 ],
 "metadata": {
  "kernelspec": {
   "display_name": "Python 3",
   "language": "python",
   "name": "python3"
  },
  "language_info": {
   "codemirror_mode": {
    "name": "ipython",
    "version": 3
   },
   "file_extension": ".py",
   "mimetype": "text/x-python",
   "name": "python",
   "nbconvert_exporter": "python",
   "pygments_lexer": "ipython3",
   "version": "3.12.2"
  },
  "papermill": {
   "default_parameters": {},
   "duration": 89.857122,
   "end_time": "2023-03-10T12:33:23.526233",
   "environment_variables": {},
   "exception": null,
   "input_path": "__notebook__.ipynb",
   "output_path": "__notebook__.ipynb",
   "parameters": {},
   "start_time": "2023-03-10T12:31:53.669111",
   "version": "2.4.0"
  }
 },
 "nbformat": 4,
 "nbformat_minor": 5
}
